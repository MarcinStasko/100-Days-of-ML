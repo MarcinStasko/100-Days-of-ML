{
  "nbformat": 4,
  "nbformat_minor": 0,
  "metadata": {
    "colab": {
      "name": "Cartpole.ipynb",
      "provenance": [],
      "collapsed_sections": [
        "jrI6q7RmWQam"
      ]
    },
    "kernelspec": {
      "name": "python3",
      "display_name": "Python 3"
    },
    "accelerator": "GPU"
  },
  "cells": [
    {
      "cell_type": "markdown",
      "metadata": {
        "id": "jrI6q7RmWQam",
        "colab_type": "text"
      },
      "source": [
        "<table align=\"center\">\n",
        "  <td align=\"center\"><a target=\"_blank\" href=\"http://introtodeeplearning.com\">\n",
        "        <img src=\"http://introtodeeplearning.com/images/colab/mit.png\" style=\"padding-bottom:5px;\" />\n",
        "      Visit MIT Deep Learning</a></td>\n",
        "  <td align=\"center\"><a target=\"_blank\" href=\"https://colab.research.google.com/github/aamini/introtodeeplearning/blob/master/lab3/RL.ipynb\">\n",
        "        <img src=\"http://introtodeeplearning.com/images/colab/colab.png?v2.0\"  style=\"padding-bottom:5px;\" />Run in Google Colab</a></td>\n",
        "  <td align=\"center\"><a target=\"_blank\" href=\"https://github.com/aamini/introtodeeplearning/blob/master/lab3/RL.ipynb\">\n",
        "        <img src=\"http://introtodeeplearning.com/images/colab/github.png\"  height=\"70px\" style=\"padding-bottom:5px;\"  />View Source on GitHub</a></td>\n",
        "</table>\n",
        "\n",
        "# Copyright Information"
      ]
    },
    {
      "cell_type": "code",
      "metadata": {
        "id": "wkd375upWYok",
        "colab_type": "code",
        "colab": {}
      },
      "source": [
        "# Copyright 2020 MIT 6.S191 Introduction to Deep Learning. All Rights Reserved.\n",
        "# \n",
        "# Licensed under the MIT License. You may not use this file except in compliance\n",
        "# with the License. Use and/or modification of this code outside of 6.S191 must\n",
        "# reference:\n",
        "#\n",
        "# © MIT 6.S191: Introduction to Deep Learning\n",
        "# http://introtodeeplearning.com\n",
        "#"
      ],
      "execution_count": 0,
      "outputs": []
    },
    {
      "cell_type": "markdown",
      "metadata": {
        "id": "WoXYKhfZMHiw",
        "colab_type": "text"
      },
      "source": [
        "# Laboratory 3: Reinforcement Learning\n",
        "\n",
        "Reinforcement learning (RL) is a subset of machine learning which poses learning problems as interactions between agents and environments. It often assumes agents have no prior knowledge of a world, so they must learn to navigate environments by optimizing a reward function. Within an environment, an agent can take certain actions and receive feedback, in the form of positive or negative rewards, with respect to their decision. As such, an agent's feedback loop is somewhat akin to the idea of \"trial and error\", or the manner in which a child might learn to distinguish between \"good\" and \"bad\" actions.\n",
        "\n",
        "In practical terms, our RL agent will interact with the environment by taking an action at each timestep, receiving a corresponding reward, and updating its state according to what it has \"learned\".  \n",
        "\n",
        "![alt text](https://www.kdnuggets.com/images/reinforcement-learning-fig1-700.jpg)\n",
        "\n",
        "While the ultimate goal of reinforcement learning is to teach agents to act in the real, physical world, games provide a convenient proving ground for developing RL algorithms and agents. Games have some properties that make them particularly well suited for RL: \n",
        "\n",
        "1.   In many cases, games have perfectly describable environments. For example, all rules of chess can be formally written and programmed into a chess game simulator;\n",
        "2.   Games are massively parallelizable. Since they do not require running in the real world, simultaneous environments can be run on large data clusters; \n",
        "3.   Simpler scenarios in games enable fast prototyping. This speeds up the development of algorithms that could eventually run in the real-world; and\n",
        "4.   ... Games are fun! \n",
        "\n",
        "In previous labs, we have explored both supervised (with LSTMs, CNNs) and unsupervised / semi-supervised (with VAEs) learning tasks. Reinforcement learning is fundamentally different, in that we are training a deep learning algorithm to govern the actions of our RL agent, that is trying, within its environment, to find the optimal way to achieve a goal. The goal of training an RL agent is to determine the best next step to take to earn the greatest final payoff or return. In this lab, we focus on building a reinforcement learning algorithm to master two different environments with varying complexity. \n",
        "\n",
        "1.   **Cartpole**:   Balance a pole, protruding from a cart, in an upright position by only moving the base left or right. Environment with a low-dimensional observation space.\n",
        "2.   [**Pong**](https://en.wikipedia.org/wiki/Pong): Beat your competitors (whether other AI or humans!) at the game of Pong. Environment with a high-dimensional observation space -- learning directly from raw pixels.\n",
        "\n",
        "Let's get started! First we'll import TensorFlow, the course package, and some dependencies.\n"
      ]
    },
    {
      "cell_type": "code",
      "metadata": {
        "id": "EvdePP-VyVWp",
        "colab_type": "code",
        "outputId": "473e8e77-ae95-42c4-9591-b8e1405abac3",
        "colab": {
          "base_uri": "https://localhost:8080/",
          "height": 340
        }
      },
      "source": [
        "!apt-get install -y xvfb python-opengl x11-utils > /dev/null 2>&1\n",
        "!pip install gym pyvirtualdisplay scikit-video > /dev/null 2>&1\n",
        "\n",
        "%tensorflow_version 2.x\n",
        "import tensorflow as tf\n",
        "\n",
        "import numpy as np\n",
        "import base64, io, time, gym\n",
        "import IPython, functools\n",
        "import matplotlib.pyplot as plt\n",
        "from tqdm import tqdm\n",
        "\n",
        "!pip install mitdeeplearning\n",
        "import mitdeeplearning as mdl"
      ],
      "execution_count": 1,
      "outputs": [
        {
          "output_type": "stream",
          "text": [
            "Collecting mitdeeplearning\n",
            "\u001b[?25l  Downloading https://files.pythonhosted.org/packages/8b/3b/b9174b68dc10832356d02a2d83a64b43a24f1762c172754407d22fc8f960/mitdeeplearning-0.1.2.tar.gz (2.1MB)\n",
            "\r\u001b[K     |▏                               | 10kB 20.1MB/s eta 0:00:01\r\u001b[K     |▎                               | 20kB 4.9MB/s eta 0:00:01\r\u001b[K     |▌                               | 30kB 6.9MB/s eta 0:00:01\r\u001b[K     |▋                               | 40kB 8.7MB/s eta 0:00:01\r\u001b[K     |▉                               | 51kB 5.6MB/s eta 0:00:01\r\u001b[K     |█                               | 61kB 6.6MB/s eta 0:00:01\r\u001b[K     |█                               | 71kB 7.4MB/s eta 0:00:01\r\u001b[K     |█▎                              | 81kB 8.2MB/s eta 0:00:01\r\u001b[K     |█▍                              | 92kB 6.6MB/s eta 0:00:01\r\u001b[K     |█▋                              | 102kB 7.2MB/s eta 0:00:01\r\u001b[K     |█▊                              | 112kB 7.2MB/s eta 0:00:01\r\u001b[K     |█▉                              | 122kB 7.2MB/s eta 0:00:01\r\u001b[K     |██                              | 133kB 7.2MB/s eta 0:00:01\r\u001b[K     |██▏                             | 143kB 7.2MB/s eta 0:00:01\r\u001b[K     |██▍                             | 153kB 7.2MB/s eta 0:00:01\r\u001b[K     |██▌                             | 163kB 7.2MB/s eta 0:00:01\r\u001b[K     |██▊                             | 174kB 7.2MB/s eta 0:00:01\r\u001b[K     |██▉                             | 184kB 7.2MB/s eta 0:00:01\r\u001b[K     |███                             | 194kB 7.2MB/s eta 0:00:01\r\u001b[K     |███▏                            | 204kB 7.2MB/s eta 0:00:01\r\u001b[K     |███▎                            | 215kB 7.2MB/s eta 0:00:01\r\u001b[K     |███▌                            | 225kB 7.2MB/s eta 0:00:01\r\u001b[K     |███▋                            | 235kB 7.2MB/s eta 0:00:01\r\u001b[K     |███▊                            | 245kB 7.2MB/s eta 0:00:01\r\u001b[K     |████                            | 256kB 7.2MB/s eta 0:00:01\r\u001b[K     |████                            | 266kB 7.2MB/s eta 0:00:01\r\u001b[K     |████▎                           | 276kB 7.2MB/s eta 0:00:01\r\u001b[K     |████▍                           | 286kB 7.2MB/s eta 0:00:01\r\u001b[K     |████▋                           | 296kB 7.2MB/s eta 0:00:01\r\u001b[K     |████▊                           | 307kB 7.2MB/s eta 0:00:01\r\u001b[K     |████▉                           | 317kB 7.2MB/s eta 0:00:01\r\u001b[K     |█████                           | 327kB 7.2MB/s eta 0:00:01\r\u001b[K     |█████▏                          | 337kB 7.2MB/s eta 0:00:01\r\u001b[K     |█████▍                          | 348kB 7.2MB/s eta 0:00:01\r\u001b[K     |█████▌                          | 358kB 7.2MB/s eta 0:00:01\r\u001b[K     |█████▋                          | 368kB 7.2MB/s eta 0:00:01\r\u001b[K     |█████▉                          | 378kB 7.2MB/s eta 0:00:01\r\u001b[K     |██████                          | 389kB 7.2MB/s eta 0:00:01\r\u001b[K     |██████▏                         | 399kB 7.2MB/s eta 0:00:01\r\u001b[K     |██████▎                         | 409kB 7.2MB/s eta 0:00:01\r\u001b[K     |██████▌                         | 419kB 7.2MB/s eta 0:00:01\r\u001b[K     |██████▋                         | 430kB 7.2MB/s eta 0:00:01\r\u001b[K     |██████▊                         | 440kB 7.2MB/s eta 0:00:01\r\u001b[K     |███████                         | 450kB 7.2MB/s eta 0:00:01\r\u001b[K     |███████                         | 460kB 7.2MB/s eta 0:00:01\r\u001b[K     |███████▎                        | 471kB 7.2MB/s eta 0:00:01\r\u001b[K     |███████▍                        | 481kB 7.2MB/s eta 0:00:01\r\u001b[K     |███████▌                        | 491kB 7.2MB/s eta 0:00:01\r\u001b[K     |███████▊                        | 501kB 7.2MB/s eta 0:00:01\r\u001b[K     |███████▉                        | 512kB 7.2MB/s eta 0:00:01\r\u001b[K     |████████                        | 522kB 7.2MB/s eta 0:00:01\r\u001b[K     |████████▏                       | 532kB 7.2MB/s eta 0:00:01\r\u001b[K     |████████▍                       | 542kB 7.2MB/s eta 0:00:01\r\u001b[K     |████████▌                       | 552kB 7.2MB/s eta 0:00:01\r\u001b[K     |████████▋                       | 563kB 7.2MB/s eta 0:00:01\r\u001b[K     |████████▉                       | 573kB 7.2MB/s eta 0:00:01\r\u001b[K     |█████████                       | 583kB 7.2MB/s eta 0:00:01\r\u001b[K     |█████████▏                      | 593kB 7.2MB/s eta 0:00:01\r\u001b[K     |█████████▎                      | 604kB 7.2MB/s eta 0:00:01\r\u001b[K     |█████████▍                      | 614kB 7.2MB/s eta 0:00:01\r\u001b[K     |█████████▋                      | 624kB 7.2MB/s eta 0:00:01\r\u001b[K     |█████████▊                      | 634kB 7.2MB/s eta 0:00:01\r\u001b[K     |██████████                      | 645kB 7.2MB/s eta 0:00:01\r\u001b[K     |██████████                      | 655kB 7.2MB/s eta 0:00:01\r\u001b[K     |██████████▎                     | 665kB 7.2MB/s eta 0:00:01\r\u001b[K     |██████████▍                     | 675kB 7.2MB/s eta 0:00:01\r\u001b[K     |██████████▌                     | 686kB 7.2MB/s eta 0:00:01\r\u001b[K     |██████████▊                     | 696kB 7.2MB/s eta 0:00:01\r\u001b[K     |██████████▉                     | 706kB 7.2MB/s eta 0:00:01\r\u001b[K     |███████████                     | 716kB 7.2MB/s eta 0:00:01\r\u001b[K     |███████████▏                    | 727kB 7.2MB/s eta 0:00:01\r\u001b[K     |███████████▎                    | 737kB 7.2MB/s eta 0:00:01\r\u001b[K     |███████████▌                    | 747kB 7.2MB/s eta 0:00:01\r\u001b[K     |███████████▋                    | 757kB 7.2MB/s eta 0:00:01\r\u001b[K     |███████████▉                    | 768kB 7.2MB/s eta 0:00:01\r\u001b[K     |████████████                    | 778kB 7.2MB/s eta 0:00:01\r\u001b[K     |████████████                    | 788kB 7.2MB/s eta 0:00:01\r\u001b[K     |████████████▎                   | 798kB 7.2MB/s eta 0:00:01\r\u001b[K     |████████████▍                   | 808kB 7.2MB/s eta 0:00:01\r\u001b[K     |████████████▋                   | 819kB 7.2MB/s eta 0:00:01\r\u001b[K     |████████████▊                   | 829kB 7.2MB/s eta 0:00:01\r\u001b[K     |█████████████                   | 839kB 7.2MB/s eta 0:00:01\r\u001b[K     |█████████████                   | 849kB 7.2MB/s eta 0:00:01\r\u001b[K     |█████████████▏                  | 860kB 7.2MB/s eta 0:00:01\r\u001b[K     |█████████████▍                  | 870kB 7.2MB/s eta 0:00:01\r\u001b[K     |█████████████▌                  | 880kB 7.2MB/s eta 0:00:01\r\u001b[K     |█████████████▊                  | 890kB 7.2MB/s eta 0:00:01\r\u001b[K     |█████████████▉                  | 901kB 7.2MB/s eta 0:00:01\r\u001b[K     |██████████████                  | 911kB 7.2MB/s eta 0:00:01\r\u001b[K     |██████████████▏                 | 921kB 7.2MB/s eta 0:00:01\r\u001b[K     |██████████████▎                 | 931kB 7.2MB/s eta 0:00:01\r\u001b[K     |██████████████▌                 | 942kB 7.2MB/s eta 0:00:01\r\u001b[K     |██████████████▋                 | 952kB 7.2MB/s eta 0:00:01\r\u001b[K     |██████████████▉                 | 962kB 7.2MB/s eta 0:00:01\r\u001b[K     |███████████████                 | 972kB 7.2MB/s eta 0:00:01\r\u001b[K     |███████████████                 | 983kB 7.2MB/s eta 0:00:01\r\u001b[K     |███████████████▎                | 993kB 7.2MB/s eta 0:00:01\r\u001b[K     |███████████████▍                | 1.0MB 7.2MB/s eta 0:00:01\r\u001b[K     |███████████████▋                | 1.0MB 7.2MB/s eta 0:00:01\r\u001b[K     |███████████████▊                | 1.0MB 7.2MB/s eta 0:00:01\r\u001b[K     |███████████████▉                | 1.0MB 7.2MB/s eta 0:00:01\r\u001b[K     |████████████████                | 1.0MB 7.2MB/s eta 0:00:01\r\u001b[K     |████████████████▏               | 1.1MB 7.2MB/s eta 0:00:01\r\u001b[K     |████████████████▍               | 1.1MB 7.2MB/s eta 0:00:01\r\u001b[K     |████████████████▌               | 1.1MB 7.2MB/s eta 0:00:01\r\u001b[K     |████████████████▊               | 1.1MB 7.2MB/s eta 0:00:01\r\u001b[K     |████████████████▉               | 1.1MB 7.2MB/s eta 0:00:01\r\u001b[K     |█████████████████               | 1.1MB 7.2MB/s eta 0:00:01\r\u001b[K     |█████████████████▏              | 1.1MB 7.2MB/s eta 0:00:01\r\u001b[K     |█████████████████▎              | 1.1MB 7.2MB/s eta 0:00:01\r\u001b[K     |█████████████████▌              | 1.1MB 7.2MB/s eta 0:00:01\r\u001b[K     |█████████████████▋              | 1.1MB 7.2MB/s eta 0:00:01\r\u001b[K     |█████████████████▊              | 1.2MB 7.2MB/s eta 0:00:01\r\u001b[K     |██████████████████              | 1.2MB 7.2MB/s eta 0:00:01\r\u001b[K     |██████████████████              | 1.2MB 7.2MB/s eta 0:00:01\r\u001b[K     |██████████████████▎             | 1.2MB 7.2MB/s eta 0:00:01\r\u001b[K     |██████████████████▍             | 1.2MB 7.2MB/s eta 0:00:01\r\u001b[K     |██████████████████▋             | 1.2MB 7.2MB/s eta 0:00:01\r\u001b[K     |██████████████████▊             | 1.2MB 7.2MB/s eta 0:00:01\r\u001b[K     |██████████████████▉             | 1.2MB 7.2MB/s eta 0:00:01\r\u001b[K     |███████████████████             | 1.2MB 7.2MB/s eta 0:00:01\r\u001b[K     |███████████████████▏            | 1.2MB 7.2MB/s eta 0:00:01\r\u001b[K     |███████████████████▍            | 1.3MB 7.2MB/s eta 0:00:01\r\u001b[K     |███████████████████▌            | 1.3MB 7.2MB/s eta 0:00:01\r\u001b[K     |███████████████████▋            | 1.3MB 7.2MB/s eta 0:00:01\r\u001b[K     |███████████████████▉            | 1.3MB 7.2MB/s eta 0:00:01\r\u001b[K     |████████████████████            | 1.3MB 7.2MB/s eta 0:00:01\r\u001b[K     |████████████████████▏           | 1.3MB 7.2MB/s eta 0:00:01\r\u001b[K     |████████████████████▎           | 1.3MB 7.2MB/s eta 0:00:01\r\u001b[K     |████████████████████▌           | 1.3MB 7.2MB/s eta 0:00:01\r\u001b[K     |████████████████████▋           | 1.3MB 7.2MB/s eta 0:00:01\r\u001b[K     |████████████████████▊           | 1.4MB 7.2MB/s eta 0:00:01\r\u001b[K     |█████████████████████           | 1.4MB 7.2MB/s eta 0:00:01\r\u001b[K     |█████████████████████           | 1.4MB 7.2MB/s eta 0:00:01\r\u001b[K     |█████████████████████▎          | 1.4MB 7.2MB/s eta 0:00:01\r\u001b[K     |█████████████████████▍          | 1.4MB 7.2MB/s eta 0:00:01\r\u001b[K     |█████████████████████▌          | 1.4MB 7.2MB/s eta 0:00:01\r\u001b[K     |█████████████████████▊          | 1.4MB 7.2MB/s eta 0:00:01\r\u001b[K     |█████████████████████▉          | 1.4MB 7.2MB/s eta 0:00:01\r\u001b[K     |██████████████████████          | 1.4MB 7.2MB/s eta 0:00:01\r\u001b[K     |██████████████████████▏         | 1.4MB 7.2MB/s eta 0:00:01\r\u001b[K     |██████████████████████▍         | 1.5MB 7.2MB/s eta 0:00:01\r\u001b[K     |██████████████████████▌         | 1.5MB 7.2MB/s eta 0:00:01\r\u001b[K     |██████████████████████▋         | 1.5MB 7.2MB/s eta 0:00:01\r\u001b[K     |██████████████████████▉         | 1.5MB 7.2MB/s eta 0:00:01\r\u001b[K     |███████████████████████         | 1.5MB 7.2MB/s eta 0:00:01\r\u001b[K     |███████████████████████▏        | 1.5MB 7.2MB/s eta 0:00:01\r\u001b[K     |███████████████████████▎        | 1.5MB 7.2MB/s eta 0:00:01\r\u001b[K     |███████████████████████▍        | 1.5MB 7.2MB/s eta 0:00:01\r\u001b[K     |███████████████████████▋        | 1.5MB 7.2MB/s eta 0:00:01\r\u001b[K     |███████████████████████▊        | 1.5MB 7.2MB/s eta 0:00:01\r\u001b[K     |████████████████████████        | 1.6MB 7.2MB/s eta 0:00:01\r\u001b[K     |████████████████████████        | 1.6MB 7.2MB/s eta 0:00:01\r\u001b[K     |████████████████████████▏       | 1.6MB 7.2MB/s eta 0:00:01\r\u001b[K     |████████████████████████▍       | 1.6MB 7.2MB/s eta 0:00:01\r\u001b[K     |████████████████████████▌       | 1.6MB 7.2MB/s eta 0:00:01\r\u001b[K     |████████████████████████▊       | 1.6MB 7.2MB/s eta 0:00:01\r\u001b[K     |████████████████████████▉       | 1.6MB 7.2MB/s eta 0:00:01\r\u001b[K     |█████████████████████████       | 1.6MB 7.2MB/s eta 0:00:01\r\u001b[K     |█████████████████████████▏      | 1.6MB 7.2MB/s eta 0:00:01\r\u001b[K     |█████████████████████████▎      | 1.6MB 7.2MB/s eta 0:00:01\r\u001b[K     |█████████████████████████▌      | 1.7MB 7.2MB/s eta 0:00:01\r\u001b[K     |█████████████████████████▋      | 1.7MB 7.2MB/s eta 0:00:01\r\u001b[K     |█████████████████████████▉      | 1.7MB 7.2MB/s eta 0:00:01\r\u001b[K     |██████████████████████████      | 1.7MB 7.2MB/s eta 0:00:01\r\u001b[K     |██████████████████████████      | 1.7MB 7.2MB/s eta 0:00:01\r\u001b[K     |██████████████████████████▎     | 1.7MB 7.2MB/s eta 0:00:01\r\u001b[K     |██████████████████████████▍     | 1.7MB 7.2MB/s eta 0:00:01\r\u001b[K     |██████████████████████████▋     | 1.7MB 7.2MB/s eta 0:00:01\r\u001b[K     |██████████████████████████▊     | 1.7MB 7.2MB/s eta 0:00:01\r\u001b[K     |███████████████████████████     | 1.8MB 7.2MB/s eta 0:00:01\r\u001b[K     |███████████████████████████     | 1.8MB 7.2MB/s eta 0:00:01\r\u001b[K     |███████████████████████████▏    | 1.8MB 7.2MB/s eta 0:00:01\r\u001b[K     |███████████████████████████▍    | 1.8MB 7.2MB/s eta 0:00:01\r\u001b[K     |███████████████████████████▌    | 1.8MB 7.2MB/s eta 0:00:01\r\u001b[K     |███████████████████████████▊    | 1.8MB 7.2MB/s eta 0:00:01\r\u001b[K     |███████████████████████████▉    | 1.8MB 7.2MB/s eta 0:00:01\r\u001b[K     |████████████████████████████    | 1.8MB 7.2MB/s eta 0:00:01\r\u001b[K     |████████████████████████████▏   | 1.8MB 7.2MB/s eta 0:00:01\r\u001b[K     |████████████████████████████▎   | 1.8MB 7.2MB/s eta 0:00:01\r\u001b[K     |████████████████████████████▌   | 1.9MB 7.2MB/s eta 0:00:01\r\u001b[K     |████████████████████████████▋   | 1.9MB 7.2MB/s eta 0:00:01\r\u001b[K     |████████████████████████████▉   | 1.9MB 7.2MB/s eta 0:00:01\r\u001b[K     |█████████████████████████████   | 1.9MB 7.2MB/s eta 0:00:01\r\u001b[K     |█████████████████████████████   | 1.9MB 7.2MB/s eta 0:00:01\r\u001b[K     |█████████████████████████████▎  | 1.9MB 7.2MB/s eta 0:00:01\r\u001b[K     |█████████████████████████████▍  | 1.9MB 7.2MB/s eta 0:00:01\r\u001b[K     |█████████████████████████████▋  | 1.9MB 7.2MB/s eta 0:00:01\r\u001b[K     |█████████████████████████████▊  | 1.9MB 7.2MB/s eta 0:00:01\r\u001b[K     |█████████████████████████████▉  | 1.9MB 7.2MB/s eta 0:00:01\r\u001b[K     |██████████████████████████████  | 2.0MB 7.2MB/s eta 0:00:01\r\u001b[K     |██████████████████████████████▏ | 2.0MB 7.2MB/s eta 0:00:01\r\u001b[K     |██████████████████████████████▍ | 2.0MB 7.2MB/s eta 0:00:01\r\u001b[K     |██████████████████████████████▌ | 2.0MB 7.2MB/s eta 0:00:01\r\u001b[K     |██████████████████████████████▊ | 2.0MB 7.2MB/s eta 0:00:01\r\u001b[K     |██████████████████████████████▉ | 2.0MB 7.2MB/s eta 0:00:01\r\u001b[K     |███████████████████████████████ | 2.0MB 7.2MB/s eta 0:00:01\r\u001b[K     |███████████████████████████████▏| 2.0MB 7.2MB/s eta 0:00:01\r\u001b[K     |███████████████████████████████▎| 2.0MB 7.2MB/s eta 0:00:01\r\u001b[K     |███████████████████████████████▌| 2.0MB 7.2MB/s eta 0:00:01\r\u001b[K     |███████████████████████████████▋| 2.1MB 7.2MB/s eta 0:00:01\r\u001b[K     |███████████████████████████████▊| 2.1MB 7.2MB/s eta 0:00:01\r\u001b[K     |████████████████████████████████| 2.1MB 7.2MB/s eta 0:00:01\r\u001b[K     |████████████████████████████████| 2.1MB 7.2MB/s \n",
            "\u001b[?25hRequirement already satisfied: numpy in /usr/local/lib/python3.6/dist-packages (from mitdeeplearning) (1.18.2)\n",
            "Requirement already satisfied: regex in /usr/local/lib/python3.6/dist-packages (from mitdeeplearning) (2019.12.20)\n",
            "Requirement already satisfied: tqdm in /usr/local/lib/python3.6/dist-packages (from mitdeeplearning) (4.38.0)\n",
            "Requirement already satisfied: gym in /usr/local/lib/python3.6/dist-packages (from mitdeeplearning) (0.17.1)\n",
            "Requirement already satisfied: six in /usr/local/lib/python3.6/dist-packages (from gym->mitdeeplearning) (1.12.0)\n",
            "Requirement already satisfied: scipy in /usr/local/lib/python3.6/dist-packages (from gym->mitdeeplearning) (1.4.1)\n",
            "Requirement already satisfied: pyglet<=1.5.0,>=1.4.0 in /usr/local/lib/python3.6/dist-packages (from gym->mitdeeplearning) (1.5.0)\n",
            "Requirement already satisfied: cloudpickle<1.4.0,>=1.2.0 in /usr/local/lib/python3.6/dist-packages (from gym->mitdeeplearning) (1.3.0)\n",
            "Requirement already satisfied: future in /usr/local/lib/python3.6/dist-packages (from pyglet<=1.5.0,>=1.4.0->gym->mitdeeplearning) (0.16.0)\n",
            "Building wheels for collected packages: mitdeeplearning\n",
            "  Building wheel for mitdeeplearning (setup.py) ... \u001b[?25l\u001b[?25hdone\n",
            "  Created wheel for mitdeeplearning: filename=mitdeeplearning-0.1.2-cp36-none-any.whl size=2114586 sha256=0a08598198c66a14ec717bbc4f3ea561200c58a158928daf7ac55c736dfd424b\n",
            "  Stored in directory: /root/.cache/pip/wheels/27/e1/73/5f01c787621d8a3c857f59876c79e304b9b64db9ff5bd61b74\n",
            "Successfully built mitdeeplearning\n",
            "Installing collected packages: mitdeeplearning\n",
            "Successfully installed mitdeeplearning-0.1.2\n"
          ],
          "name": "stdout"
        }
      ]
    },
    {
      "cell_type": "markdown",
      "metadata": {
        "id": "zmrHSiXKTXTY",
        "colab_type": "text"
      },
      "source": [
        "Before we dive in, let's take a step back and outline our approach, which is generally applicable to reinforcement learning problems in general:\n",
        "\n",
        "1. **Initialize our environment and our agent**: here we will describe the different observations and actions the agent can make in the environemnt.\n",
        "2. **Define our agent's memory**: this will enable the agent to remember its past actions, observations, and rewards.\n",
        "3. **Define a reward function**: describes the reward associated with an action or sequence of actions.\n",
        "4. **Define the learning algorithm**: this will be used to reinforce the agent's good behaviors and discourage bad behaviors.\n"
      ]
    },
    {
      "cell_type": "markdown",
      "metadata": {
        "id": "UT7YL8KBJIIc",
        "colab_type": "text"
      },
      "source": [
        "# Part 1: Cartpole\n",
        "\n",
        "## 3.1 Define the Cartpole environment and agent\n",
        "\n",
        "### Environment \n",
        "\n",
        "In order to model the environment for both the Cartpole and Pong tasks, we'll be using a toolkit developed by OpenAI called [OpenAI Gym](https://gym.openai.com/). It provides several pre-defined environments for training and testing reinforcement learning agents, including those for classic physics control tasks, Atari video games, and robotic simulations. To access the Cartpole environment, we can use `env = gym.make(\"CartPole-v0\")`, which we gained access to when we imported the `gym` package. We can instantiate different [environments](https://gym.openai.com/envs/#classic_control) by passing the enivronment name to the `make` function.\n",
        "\n",
        "One issue we might experience when developing RL algorithms is that many aspects of the learning process are inherently random: initializing game states, changes in the environment, and the agent's actions. As such, it can be helpful to set a initial \"seed\" for the environment to ensure some level of reproducibility. Much like you might use `numpy.random.seed`, we can call the comparable function in gym, `seed`, with our defined environment to ensure the environment's random variables are initialized the same each time."
      ]
    },
    {
      "cell_type": "code",
      "metadata": {
        "id": "quv9SC0iIYFm",
        "colab_type": "code",
        "outputId": "b30ab4ce-0743-4773-b26a-7600fcfc4fc9",
        "colab": {
          "base_uri": "https://localhost:8080/",
          "height": 34
        }
      },
      "source": [
        "### Instantiate the Cartpole environment ###\n",
        "\n",
        "env = gym.make(\"CartPole-v0\")\n",
        "env.seed(1)"
      ],
      "execution_count": 2,
      "outputs": [
        {
          "output_type": "execute_result",
          "data": {
            "text/plain": [
              "[1]"
            ]
          },
          "metadata": {
            "tags": []
          },
          "execution_count": 2
        }
      ]
    },
    {
      "cell_type": "markdown",
      "metadata": {
        "id": "mhEITUcKK455",
        "colab_type": "text"
      },
      "source": [
        "In Cartpole, a pole is attached by an un-actuated joint to a cart, which moves along a frictionless track. The pole starts upright, and the goal is to prevent it from falling over. The system is controlled by applying a force of +1 or -1 to the cart. A reward of +1 is provided for every timestep that the pole remains upright. The episode ends when the pole is more than 15 degrees from vertical, or the cart moves more than 2.4 units from the center of the track. A visual summary of the cartpole environment is depicted below:\n",
        "\n",
        "<img width=\"400px\" src=\"https://danielpiedrahita.files.wordpress.com/2017/02/cart-pole.png\"></img>\n",
        "\n",
        "Given this setup for the environment and the objective of the game, we can think about: 1) what observations help define the environment's state; 2) what actions the agent can take. \n",
        "\n",
        "First, let's consider the observation space. In this Cartpole environment our observations are:\n",
        "\n",
        "1. Cart position\n",
        "2. Cart velocity\n",
        "3. Pole angle\n",
        "4. Pole rotation rate\n",
        "\n",
        "We can confirm the size of the space by querying the environment's observation space:\n"
      ]
    },
    {
      "cell_type": "code",
      "metadata": {
        "id": "UVJaEcbdIX82",
        "colab_type": "code",
        "outputId": "3f81cf0c-4d23-4f43-ebf0-f690ebceac0b",
        "colab": {
          "base_uri": "https://localhost:8080/",
          "height": 34
        }
      },
      "source": [
        "n_observations = env.observation_space\n",
        "print(\"Environment has observation space =\", n_observations)"
      ],
      "execution_count": 3,
      "outputs": [
        {
          "output_type": "stream",
          "text": [
            "Environment has observation space = Box(4,)\n"
          ],
          "name": "stdout"
        }
      ]
    },
    {
      "cell_type": "markdown",
      "metadata": {
        "id": "ZibGgjrALgPM",
        "colab_type": "text"
      },
      "source": [
        "Second, we consider the action space. At every time step, the agent can move either right or left. Again we can confirm the size of the action space by querying the environment:"
      ]
    },
    {
      "cell_type": "code",
      "metadata": {
        "id": "qc9SIPxBIXrm",
        "colab_type": "code",
        "outputId": "1fedc53f-29a5-4717-a6c6-0dd353c085e1",
        "colab": {
          "base_uri": "https://localhost:8080/",
          "height": 34
        }
      },
      "source": [
        "n_actions = env.action_space.n\n",
        "print(\"Number of possible actions that the agent can choose from =\", n_actions)"
      ],
      "execution_count": 4,
      "outputs": [
        {
          "output_type": "stream",
          "text": [
            "Number of possible actions that the agent can choose from = 2\n"
          ],
          "name": "stdout"
        }
      ]
    },
    {
      "cell_type": "markdown",
      "metadata": {
        "id": "pPfHME8aRKkb",
        "colab_type": "text"
      },
      "source": [
        "### Cartpole agent\n",
        "\n",
        "Now that we have instantiated the environment and understood the dimensionality of the observation and action spaces, we are ready to define our agent. In deep reinforcement learning, a deep neural network defines the agent. This network will take as input an observation of the environment and output the probability of taking each of the possible actions. Since Cartpole is defined by a low-dimensional observation space, a simple feed-forward neural network should work well for our agent. We will define this using the `Sequential` API.\n"
      ]
    },
    {
      "cell_type": "code",
      "metadata": {
        "id": "W-o_XK4oQ4eu",
        "colab_type": "code",
        "colab": {}
      },
      "source": [
        "### Define the Cartpole agent ###\n",
        "\n",
        "# Defines a feed-forward neural network\n",
        "def create_cartpole_model():\n",
        "  model = tf.keras.models.Sequential([\n",
        "      # First Dense layer\n",
        "      tf.keras.layers.Dense(units=32, activation='relu'),\n",
        "      tf.keras.layers.Dense(units=n_actions, activation=None) \n",
        "  ])\n",
        "  return model\n",
        "\n",
        "cartpole_model = create_cartpole_model()"
      ],
      "execution_count": 0,
      "outputs": []
    },
    {
      "cell_type": "markdown",
      "metadata": {
        "id": "d5D5NSIYS2IW",
        "colab_type": "text"
      },
      "source": [
        "Now that we have defined the core network architecture, we will define an *action function* that executes a forward pass through the network, given a set of observations, and samples from the output. This sampling from the output probabilities will be used to select the next action for the agent. \n",
        "\n",
        "**Critically, this action function is totally general -- we will use this function for both Cartpole and Pong, and it is applicable to other RL tasks, as well!**"
      ]
    },
    {
      "cell_type": "code",
      "metadata": {
        "id": "E_vVZRr8Q4R_",
        "colab_type": "code",
        "colab": {}
      },
      "source": [
        "### Define the agent's action function ###\n",
        "\n",
        "# Function that takes observations as input, executes a forward pass through model, \n",
        "#   and outputs a sampled action.\n",
        "# Arguments:\n",
        "#   model: the network that defines our agent\n",
        "#   observation: observation which is fed as input to the model\n",
        "# Returns:\n",
        "#   action: choice of agent action\n",
        "def choose_action(model, observation):\n",
        "  # add batch dimension to the observation\n",
        "  observation = np.expand_dims(observation, axis=0)\n",
        "\n",
        "  '''TODO: feed the observations through the model to predict the log probabilities of each possible action.'''\n",
        "  logits = model.predict(observation)\n",
        "  \n",
        "  # pass the log probabilities through a softmax to compute true probabilities\n",
        "  prob_weights = tf.nn.softmax(logits).numpy()\n",
        "  \n",
        "  '''TODO: randomly sample from the prob_weights to pick an action.\n",
        "  Hint: carefully consider the dimensionality of the input probabilities (vector) and the output action (scalar)'''\n",
        "  action = np.random.choice(n_actions, size=1, p= prob_weights.flatten() )[0]\n",
        "\n",
        "  return action"
      ],
      "execution_count": 0,
      "outputs": []
    },
    {
      "cell_type": "markdown",
      "metadata": {
        "id": "_tR9uAWcTnkr",
        "colab_type": "text"
      },
      "source": [
        "## 3.2 Define the agent's memory\n",
        "\n",
        "Now that we have instantiated the environment and defined the agent network architecture and action function, we are ready to move on to the next step in our RL workflow:\n",
        "1. **Initialize our environment and our agent**: here we will describe the different observations and actions the agent can make in the environemnt.\n",
        "2. **Define our agent's memory**: this will enable the agent to remember its past actions, observations, and rewards.\n",
        "3. **Define the learning algorithm**: this will be used to reinforce the agent's good behaviors and discourage bad behaviors.\n",
        "\n",
        "In reinforcement learning, training occurs alongside the agent's acting in the environment; an *episode* refers to a sequence of actions that ends in some terminal state, such as the pole falling down or the cart crashing. The agent will need to remember all of its observations and actions, such that once an episode ends, it can learn to \"reinforce\" the good actions and punish the undesirable actions via training. Our first step is to define a simple memory buffer that contains the agent's observations, actions, and received rewards from a given episode. \n",
        "\n",
        "**Once again, note the modularity of this memory buffer -- it can and will be applied to other RL tasks as well!**"
      ]
    },
    {
      "cell_type": "code",
      "metadata": {
        "id": "8MM6JwXVQ4JG",
        "colab_type": "code",
        "colab": {}
      },
      "source": [
        "### Agent Memory ###\n",
        "\n",
        "class Memory:\n",
        "  def __init__(self): \n",
        "      self.clear()\n",
        "\n",
        "  # Resets/restarts the memory buffer\n",
        "  def clear(self): \n",
        "      self.observations = []\n",
        "      self.actions = []\n",
        "      self.rewards = []\n",
        "\n",
        "  # Add observations, actions, rewards to memory\n",
        "  def add_to_memory(self, new_observation, new_action, new_reward): \n",
        "      self.observations.append(new_observation)\n",
        "      '''TODO: update the list of actions with new action'''\n",
        "      self.actions.append(new_action)\n",
        "      '''TODO: update the list of rewards with new reward'''\n",
        "      self.rewards.append(new_reward)\n",
        "      # TODO: your update code here\n",
        "        \n",
        "memory = Memory()"
      ],
      "execution_count": 0,
      "outputs": []
    },
    {
      "cell_type": "markdown",
      "metadata": {
        "id": "D4YhtPaUVj5m",
        "colab_type": "text"
      },
      "source": [
        "## 3.3 Reward function\n",
        "\n",
        "We're almost ready to begin the learning algorithm for our agent! The next step is to compute the rewards of our agent as it acts in the environment. Since we (and the agent) is uncertain about if and when the game or task will end (i.e., when the pole will fall), it is useful to emphasize getting rewards **now** rather than later in the future -- this is the idea of discounting. This is a similar concept to discounting money in the case of interest. ecall from lecture, we use reward discount to give more preference at getting rewards now rather than later in the future. The idea of discounting rewards is similar to discounting money in the case of interest.\n",
        "\n",
        "To compute the expected cumulative reward, known as the **return**, at a given timestep in a learning episode, we sum the discounted rewards expected at that time step $t$, within a learning episode, and projecting into the future. We define the return (cumulative reward) at a time step $t$, $R_{t}$ as:\n",
        "\n",
        ">$R_{t}=\\sum_{k=0}^\\infty\\gamma^kr_{t+k}$\n",
        "\n",
        "where  $0 < \\gamma < 1$ is the discount factor and $r_{t}$ is the reward at time step $t$, and the index $k$ increments projection into the future within a single learning episode. Intuitively, you can think of this function as depreciating any rewards received at later time steps, which will force the agent prioritize getting rewards now. Since we can't extend episodes to infinity, in practice the computation will be limited to the number of timesteps in an episode -- after that the reward is assumed to be zero.\n",
        "\n",
        "Take note of the form of this sum -- we'll have to be clever about how we implement this function. Specifically, we'll need to initialize an array of zeros, with length of the number of time steps, and fill it with the real discounted reward values as we loop through the rewards from the episode, which will have been saved in the agents memory. What we ultimately care about is which actions are better relative to other actions taken in that episode -- so, we'll normalize our computed rewards, using the mean and standard deviation of the rewards across the learning episode.\n"
      ]
    },
    {
      "cell_type": "code",
      "metadata": {
        "id": "5_Q2OFYtQ32X",
        "colab_type": "code",
        "colab": {}
      },
      "source": [
        "### Reward function ###\n",
        "\n",
        "# Helper function that normalizes an np.array x\n",
        "def normalize(x):\n",
        "  x -= np.mean(x)\n",
        "  x /= np.std(x)\n",
        "  return x.astype(np.float32)\n",
        "\n",
        "# Compute normalized, discounted, cumulative rewards (i.e., return)\n",
        "# Arguments:\n",
        "#   rewards: reward at timesteps in episode\n",
        "#   gamma: discounting factor\n",
        "# Returns:\n",
        "#   normalized discounted reward\n",
        "def discount_rewards(rewards, gamma=0.95): \n",
        "  discounted_rewards = np.zeros_like(rewards)\n",
        "  R = 0\n",
        "  for t in reversed(range(0, len(rewards))):\n",
        "      # update the total discounted reward\n",
        "      R = R * gamma + rewards[t]\n",
        "      discounted_rewards[t] = R\n",
        "      \n",
        "  return normalize(discounted_rewards)"
      ],
      "execution_count": 0,
      "outputs": []
    },
    {
      "cell_type": "markdown",
      "metadata": {
        "id": "QzbY-mjGYcmt",
        "colab_type": "text"
      },
      "source": [
        "## 3.4 Learning algorithm\n",
        "\n",
        "Now we can start to define the learing algorithm which will be used to reinforce good behaviors of the agent and discourage bad behaviours. In this lab, we will focus on *policy gradient* methods which aim to **maximize** the likelihood of actions that result in large rewards. Equivalently, this means that we want to **minimize** the negative likelihood of these same actions. We achieve this by simply **scaling** the probabilities by their associated rewards -- effectively amplifying the likelihood of actions that result in large rewards.\n",
        "\n",
        "Since the log function is monotonically increasing, this means that minimizing **negative likelihood** is equivalent to minimizing **negative log-likelihood**.  Recall that we can easily compute the negative log-likelihood of a discrete action by evaluting its [softmax cross entropy](https://www.tensorflow.org/api_docs/python/tf/nn/sparse_softmax_cross_entropy_with_logits). Like in supervised learning, we can use stochastic gradient descent methods to achieve the desired minimization. \n",
        "\n",
        "Let's begin by defining the loss function."
      ]
    },
    {
      "cell_type": "code",
      "metadata": {
        "id": "fsgZ3IDCY_Zn",
        "colab_type": "code",
        "colab": {}
      },
      "source": [
        "### Loss function ###\n",
        "\n",
        "# Arguments:\n",
        "#   logits: network's predictions for actions to take\n",
        "#   actions: the actions the agent took in an episode\n",
        "#   rewards: the rewards the agent received in an episode\n",
        "# Returns:\n",
        "#   loss\n",
        "def compute_loss(logits, actions, rewards): \n",
        "  '''TODO: complete the function call to compute the negative log probabilities'''\n",
        "  neg_logprob = tf.nn.sparse_softmax_cross_entropy_with_logits(logits=logits, labels=actions)\n",
        "  \n",
        "  '''TODO: scale the negative log probability by the rewards'''\n",
        "  loss = tf.reduce_mean( neg_logprob * rewards)\n",
        "  return loss"
      ],
      "execution_count": 0,
      "outputs": []
    },
    {
      "cell_type": "markdown",
      "metadata": {
        "id": "Rr5vQ9fqbPpp",
        "colab_type": "text"
      },
      "source": [
        "Now let's use the loss function to define a training step of our learning algorithm:"
      ]
    },
    {
      "cell_type": "code",
      "metadata": {
        "id": "_50ada7nbZ7L",
        "colab_type": "code",
        "colab": {}
      },
      "source": [
        "### Training step (forward and backpropagation) ###\n",
        "\n",
        "def train_step(model, optimizer, observations, actions, discounted_rewards):\n",
        "  with tf.GradientTape() as tape:\n",
        "      # Forward propagate through the agent network\n",
        "      logits = model(observations)\n",
        "\n",
        "      '''TODO: call the compute_loss function to compute the loss'''\n",
        "      loss = compute_loss(logits, actions,discounted_rewards)\n",
        "\n",
        "  '''TODO: run backpropagation to minimize the loss using the tape.gradient method.\n",
        "      Use `model.trainable_variables`'''\n",
        "  grads = tape.gradient(loss, model.trainable_variables)\n",
        "  optimizer.apply_gradients(zip(grads, model.trainable_variables))\n"
      ],
      "execution_count": 0,
      "outputs": []
    },
    {
      "cell_type": "markdown",
      "metadata": {
        "id": "XsjKXh6BcgjR",
        "colab_type": "text"
      },
      "source": [
        "## 3.5 Run cartpole!\n",
        "\n",
        "Having had no prior knowledge of the environment, the agent will begin to learn how to balance the pole on the cart based only on the feedback received from the environment! Having defined how our agent can move, how it takes in new observations, and how it updates its state, we'll see how it gradually learns a policy of actions to optimize balancing the pole as long as possible. To do this, we'll track how the rewards evolve as a function of training -- how should the rewards change as training progresses?"
      ]
    },
    {
      "cell_type": "code",
      "metadata": {
        "id": "XmOzc2rrcn8Q",
        "colab_type": "code",
        "outputId": "7ed82125-4bf0-4a86-b2ec-55897f7bc967",
        "colab": {
          "base_uri": "https://localhost:8080/",
          "height": 541
        }
      },
      "source": [
        "### Cartpole training! ###\n",
        "\n",
        "# Learning rate and optimizer\n",
        "learning_rate = 1e-3\n",
        "optimizer = tf.keras.optimizers.Adam(learning_rate)\n",
        "\n",
        "# instantiate cartpole agent\n",
        "cartpole_model = create_cartpole_model()\n",
        "\n",
        "# to track our progress\n",
        "smoothed_reward = mdl.util.LossHistory(smoothing_factor=0.9)\n",
        "plotter = mdl.util.PeriodicPlotter(sec=2, xlabel='Iterations', ylabel='Rewards')\n",
        "\n",
        "if hasattr(tqdm, '_instances'): tqdm._instances.clear() # clear if it exists\n",
        "for i_episode in range(1000):\n",
        "\n",
        "  plotter.plot(smoothed_reward.get())\n",
        "\n",
        "  # Restart the environment\n",
        "  observation = env.reset()\n",
        "  memory.clear()\n",
        "\n",
        "  while True:\n",
        "      # using our observation, choose an action and take it in the environment\n",
        "      action = choose_action(cartpole_model, observation)\n",
        "      next_observation, reward, done, info = env.step(action)\n",
        "      # add to memory\n",
        "      memory.add_to_memory(observation, action, reward)\n",
        "      \n",
        "      # is the episode over? did you crash or do so well that you're done?\n",
        "      if done:\n",
        "          # determine total reward and keep a record of this\n",
        "          total_reward = sum(memory.rewards)\n",
        "          smoothed_reward.append(total_reward)\n",
        "          \n",
        "          # initiate training - remember we don't know anything about how the \n",
        "          #   agent is doing until it has crashed!\n",
        "          train_step(cartpole_model, optimizer, \n",
        "                     observations=np.vstack(memory.observations),\n",
        "                     actions=np.array(memory.actions),\n",
        "                     discounted_rewards = discount_rewards(memory.rewards))\n",
        "          \n",
        "          # reset the memory\n",
        "          memory.clear()\n",
        "          break\n",
        "      # update our observatons\n",
        "      observation = next_observation"
      ],
      "execution_count": 11,
      "outputs": [
        {
          "output_type": "display_data",
          "data": {
            "image/png": "[encoded data removed]",
            "text/plain": [
              "<Figure size 432x288 with 1 Axes>"
            ]
          },
          "metadata": {
            "tags": []
          }
        },
        {
          "output_type": "display_data",
          "data": {
            "image/png": "[encoded data removed]",
            "text/plain": [
              "<Figure size 432x288 with 1 Axes>"
            ]
          },
          "metadata": {
            "tags": []
          }
        }
      ]
    },
    {
      "cell_type": "markdown",
      "metadata": {
        "id": "mkcUtGF1VE-K",
        "colab_type": "text"
      },
      "source": [
        "To get a sense of how our agent did, we can save a video of the trained model working on balancing the pole. Realize that this is a brand new environment that the agent has not seen before!\n",
        "\n",
        "Let's display the saved video to watch how our agent did!\n"
      ]
    },
    {
      "cell_type": "code",
      "metadata": {
        "id": "PAYBkv6Zbk0J",
        "colab_type": "code",
        "outputId": "886a552f-d293-4bf4-f3fd-749e77d4ef80",
        "colab": {
          "base_uri": "https://localhost:8080/",
          "height": 438
        }
      },
      "source": [
        "saved_cartpole = mdl.lab3.save_video_of_model(cartpole_model, \"CartPole-v0\")\n",
        "mdl.lab3.play_video(saved_cartpole)"
      ],
      "execution_count": 13,
      "outputs": [
        {
          "output_type": "stream",
          "text": [
            "Successfully saved 200 frames into CartPole-v0.mp4!\n"
          ],
          "name": "stdout"
        },
        {
          "output_type": "execute_result",
          "data": {
            "text/html": [
              "\n",
              "        <video controls>\n",
              "            <source src=\"data:video/mp4;base64,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\" type=\"video/mp4\" />\n",
              "        </video>"
            ],
            "text/plain": [
              "<IPython.core.display.HTML object>"
            ]
          },
          "metadata": {
            "tags": []
          },
          "execution_count": 13
        }
      ]
    },
    {
      "cell_type": "markdown",
      "metadata": {
        "id": "CSbVNDpaVb3_",
        "colab_type": "text"
      },
      "source": [
        "How does the agent perform? Could you train it for shorter amounts of time and still perform well? Do you think that training longer would help even more? "
      ]
    }
  ]
}